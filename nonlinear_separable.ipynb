{
 "cells": [
  {
   "cell_type": "heading",
   "metadata": {
    "collapsed": true
   },
   "level": 1,
   "source": [
    "non-linear separable scenario:\n"
   ]
  },
  {
   "cell_type": "heading",
   "metadata": {
    "collapsed": true
   },
   "level": 1,
   "source": [
    "\n"
   ]
  },
  {
   "cell_type": "code",
   "execution_count": 4,
   "metadata": {},
   "outputs": [],
   "source": [
    "# packages for data-analysis and ML-module\n",
    "import numpy as np\n",
    "from sklearn import datasets\n",
    "from sklearn.pipeline import Pipeline\n",
    "from sklearn.preprocessing import StandardScaler\n",
    "from sklearn.svm import LinearSVC\n",
    "from sklearn.svm import SVC\n",
    "\n",
    "# packages for data-visualization\n",
    "import matplotlib.pyplot as plt\n",
    "%matplotlib inline"
   ]
  },
  {
   "cell_type": "code",
   "execution_count": 3,
   "metadata": {},
   "outputs": [
    {
     "name": "stdout",
     "output_type": "stream",
     "text": [
      "[0. 0. 0. 0. 0. 0. 0. 0. 0. 0. 0. 0. 0. 0. 0. 0. 0. 0. 0. 0. 0. 0. 0. 0.\n 0. 0. 0. 0. 0. 0. 0. 0. 0. 0. 0. 0. 0. 0. 0. 0. 0. 0. 0. 0. 0. 0. 0. 0.\n 0. 0. 0. 0. 0. 0. 0. 0. 0. 0. 0. 0. 0. 0. 0. 0. 0. 0. 0. 0. 0. 0. 0. 0.\n 0. 0. 0. 0. 0. 0. 0. 0. 0. 0. 0. 0. 0. 0. 0. 0. 0. 0. 0. 0. 0. 0. 0. 0.\n 0. 0. 0. 0. 1. 1. 1. 1. 1. 1. 1. 1. 1. 1. 1. 1. 1. 1. 1. 1. 1. 1. 1. 1.\n 1. 1. 1. 1. 1. 1. 1. 1. 1. 1. 1. 1. 1. 1. 1. 1. 1. 1. 1. 1. 1. 1. 1. 1.\n 1. 1. 1. 1. 1. 1.]\n"
     ]
    },
    {
     "data": {
      "text/plain": [
       "Pipeline(memory=None,\n     steps=[('scaler', StandardScaler(copy=True, with_mean=True, with_std=True)), ('linear_svc', LinearSVC(C=1, class_weight=None, dual=True, fit_intercept=True,\n     intercept_scaling=1, loss='hinge', max_iter=1000, multi_class='ovr',\n     penalty='l2', random_state=42, tol=0.0001, verbose=0))])"
      ]
     },
     "execution_count": 3,
     "metadata": {},
     "output_type": "execute_result"
    }
   ],
   "source": [
    "iris = datasets.load_iris()\n",
    "X = iris[\"data\"][:, (2, 3)]  # petal length, petal width\n",
    "y = (iris[\"target\"] == 2).astype(np.float64)  # Iris-Virginica\n",
    "#print(X)\n",
    "print(y)\n",
    "\n",
    "model_svm = Pipeline([\n",
    "    (\"scaler\", StandardScaler()),\n",
    "    (\"linear_svc\", LinearSVC(C=1, loss=\"hinge\", random_state=42)),\n",
    "])\n",
    "\n",
    "model_svm.fit(X, y)"
   ]
  },
  {
   "cell_type": "heading",
   "metadata": {},
   "level": 2,
   "source": [
    "assess with identified points in each classification"
   ]
  },
  {
   "cell_type": "code",
   "execution_count": 4,
   "metadata": {},
   "outputs": [
    {
     "name": "stdout",
     "output_type": "stream",
     "text": [
      "[0.]\n[1.]\n"
     ]
    }
   ],
   "source": [
    "print(model_svm.predict([[1.4 , 0.2]]))\n",
    "print(model_svm.predict([[5.4 , 2.3]]))"
   ]
  },
  {
   "cell_type": "heading",
   "metadata": {},
   "level": 2,
   "source": [
    "SVMs is sensitive to features scales . therefore we standadize both axis before plotting"
   ]
  },
  {
   "cell_type": "code",
   "execution_count": 5,
   "metadata": {},
   "outputs": [],
   "source": [
    "scaler = StandardScaler()"
   ]
  },
  {
   "cell_type": "heading",
   "metadata": {},
   "level": 2,
   "source": [
    "training two linearSVM models that differ in C-parameter"
   ]
  },
  {
   "cell_type": "code",
   "execution_count": 6,
   "metadata": {},
   "outputs": [],
   "source": [
    "# parameter random_state specifies that every single output remains identical in each epoch \n",
    "# while(42 is irrelevant)\n",
    "model_svm1 = LinearSVC(C=1, loss=\"hinge\", random_state=42)\n",
    "model_svm2 = LinearSVC(C=100, loss=\"hinge\", random_state=42)"
   ]
  },
  {
   "cell_type": "code",
   "execution_count": 7,
   "metadata": {},
   "outputs": [],
   "source": [
    "scaled_svm1 = Pipeline([\n",
    "    (\"scaler\", scaler),\n",
    "    (\"model_svm1\", model_svm1),\n",
    "])\n",
    "scaled_svm2 = Pipeline([\n",
    "    (\"scaler\", scaler),\n",
    "    (\"model_svm2\", model_svm2),\n",
    "])"
   ]
  },
  {
   "cell_type": "code",
   "execution_count": 8,
   "metadata": {},
   "outputs": [
    {
     "data": {
      "text/plain": [
       "Pipeline(memory=None,\n     steps=[('scaler', StandardScaler(copy=True, with_mean=True, with_std=True)), ('model_svm2', LinearSVC(C=100, class_weight=None, dual=True, fit_intercept=True,\n     intercept_scaling=1, loss='hinge', max_iter=1000, multi_class='ovr',\n     penalty='l2', random_state=42, tol=0.0001, verbose=0))])"
      ]
     },
     "execution_count": 8,
     "metadata": {},
     "output_type": "execute_result"
    }
   ],
   "source": [
    "scaled_svm1.fit(X, y)\n",
    "scaled_svm2.fit(X, y)"
   ]
  },
  {
   "cell_type": "code",
   "execution_count": 9,
   "metadata": {},
   "outputs": [],
   "source": [
    "# Convert to unscaled parameters\n",
    "b1 = model_svm1.decision_function([-scaler.mean_ / scaler.scale_])\n",
    "b2 = model_svm2.decision_function([-scaler.mean_ / scaler.scale_])\n",
    "w1 = model_svm1.coef_[0] / scaler.scale_\n",
    "w2 = model_svm2.coef_[0] / scaler.scale_\n",
    "model_svm1.intercept_ = np.array([b1])\n",
    "model_svm2.intercept_ = np.array([b2])\n",
    "model_svm1.coef_ = np.array([w1])\n",
    "model_svm2.coef_ = np.array([w2])\n",
    "\n",
    "# Find support vectors (LinearSVC does not do this automatically)\n",
    "t = y * 2 - 1\n",
    "support_vectors_idx1 = (t * (X.dot(w1) + b1) < 1).ravel()\n",
    "support_vectors_idx2 = (t * (X.dot(w2) + b2) < 1).ravel()\n",
    "model_svm1.support_vectors_ = X[support_vectors_idx1]\n",
    "model_svm2.support_vectors_ = X[support_vectors_idx2]"
   ]
  },
  {
   "cell_type": "heading",
   "metadata": {},
   "level": 2,
   "source": [
    "draw the hyperplane and the streets"
   ]
  },
  {
   "cell_type": "code",
   "execution_count": 10,
   "metadata": {},
   "outputs": [],
   "source": [
    "def plot_svc_decision_boundary(svm_clf, xmin, xmax):\n",
    "    w = svm_clf.coef_[0]\n",
    "    b = svm_clf.intercept_[0]\n",
    "\n",
    "    # At the decision boundary, w0*x0 + w1*x1 + b = 0\n",
    "    # => x1 = -w0/w1 * x0 - b/w1\n",
    "    x0 = np.linspace(xmin, xmax, 200)\n",
    "    decision_boundary = -w[0]/w[1] * x0 - b/w[1]\n",
    "\n",
    "    margin = 1/w[1]\n",
    "    gutter_up = decision_boundary + margin\n",
    "    gutter_down = decision_boundary - margin\n",
    "\n",
    "    svs = svm_clf.support_vectors_\n",
    "    plt.scatter(svs[:, 0], svs[:, 1], s=180, facecolors='#FFAAAA')\n",
    "    plt.plot(x0, decision_boundary, \"k-\", linewidth=2)\n",
    "    plt.plot(x0, gutter_up, \"k--\", linewidth=2)\n",
    "    plt.plot(x0, gutter_down, \"k--\", linewidth=2)"
   ]
  },
  {
   "cell_type": "heading",
   "metadata": {},
   "level": 2,
   "source": [
    "Plot them out\n"
   ]
  },
  {
   "cell_type": "code",
   "execution_count": 11,
   "metadata": {},
   "outputs": [
    {
     "data": {
      "text/plain": [
       "[4, 6, 0.8, 2.8]"
      ]
     },
     "execution_count": 11,
     "metadata": {},
     "output_type": "execute_result"
    },
    {
     "data": {
      "image/png": "[encoded data removed]",
      "text/plain": [
       "<Figure size 864x230.4 with 2 Axes>"
      ]
     },
     "metadata": {},
     "output_type": "display_data"
    }
   ],
   "source": [
    "plt.figure(figsize=(12,3.2))\n",
    "plt.subplot(121)\n",
    "plt.plot(X[:, 0][y==1], X[:, 1][y==1], \"g^\", label=\"Iris-Virginica\")\n",
    "plt.plot(X[:, 0][y==0], X[:, 1][y==0], \"bs\", label=\"Iris-Versicolor\")\n",
    "plot_svc_decision_boundary(model_svm1, 4, 6)\n",
    "plt.xlabel(\"Petal length\", fontsize=14, rotation=0)\n",
    "plt.ylabel(\"Petal width\", fontsize=14, rotation=0)\n",
    "plt.legend(loc=\"upper left\", fontsize=14)\n",
    "plt.title(\"$C = {}$\".format(model_svm1.C), fontsize=16)\n",
    "plt.axis([4, 6, 0.8, 2.8])\n",
    "\n",
    "plt.subplot(122)\n",
    "plt.plot(X[:, 0][y==1], X[:, 1][y==1], \"g^\")\n",
    "plt.plot(X[:, 0][y==0], X[:, 1][y==0], \"bs\")\n",
    "plot_svc_decision_boundary(model_svm2, 4, 6)\n",
    "plt.xlabel(\"Petal length\", fontsize=14)\n",
    "plt.title(\"$C = {}$\".format(model_svm2.C), fontsize=16)\n",
    "plt.axis([4, 6, 0.8, 2.8])"
   ]
  },
  {
   "cell_type": "heading",
   "metadata": {},
   "level": 2,
   "source": [
    "Since the 2 clusters in the dataset is apparently linearly-unseparable, i will implement \"kernel trick\" on it."
   ]
  },
  {
   "cell_type": "code",
   "execution_count": 12,
   "metadata": {},
   "outputs": [
    {
     "data": {
      "text/plain": [
       "Pipeline(memory=None,\n     steps=[('poly_features', PolynomialFeatures(degree=3, include_bias=True, interaction_only=False)), ('scaler', StandardScaler(copy=True, with_mean=True, with_std=True)), ('svm_clf', LinearSVC(C=10, class_weight=None, dual=True, fit_intercept=True,\n     intercept_scaling=1, loss='hinge', max_iter=1000, multi_class='ovr',\n     penalty='l2', random_state=42, tol=0.0001, verbose=0))])"
      ]
     },
     "execution_count": 12,
     "metadata": {},
     "output_type": "execute_result"
    }
   ],
   "source": [
    "from sklearn.preprocessing import PolynomialFeatures\n",
    "\n",
    "\"\"\"front paramters are tranformers , while the last shall only be estimator\"\"\"\n",
    "\"\"\"Pipeline of transforms with a final estimator.\"\"\"\n",
    "model_polynomial_svm = Pipeline([\n",
    "    (\"poly_features\", PolynomialFeatures(degree=3)),\n",
    "    (\"scaler\", StandardScaler()),\n",
    "    (\"svm_clf\", LinearSVC(C=10, loss=\"hinge\", random_state=42))\n",
    "])\n",
    "\n",
    "model_polynomial_svm.fit(X, y)"
   ]
  },
  {
   "cell_type": "heading",
   "metadata": {},
   "level": 2,
   "source": [
    "or simply use the SVM class which already has kernel trick implemented"
   ]
  },
  {
   "cell_type": "code",
   "execution_count": 13,
   "metadata": {},
   "outputs": [
    {
     "data": {
      "text/plain": [
       "Pipeline(memory=None,\n     steps=[('scaler', StandardScaler(copy=True, with_mean=True, with_std=True)), ('svm_poly', SVC(C=5, cache_size=200, class_weight=None, coef0=100,\n  decision_function_shape='ovr', degree=3, gamma='auto', kernel='poly',\n  max_iter=-1, probability=False, random_state=None, shrinking=True,\n  tol=0.001, verbose=False))])"
      ]
     },
     "execution_count": 13,
     "metadata": {},
     "output_type": "execute_result"
    }
   ],
   "source": [
    "poly_kernel_svm = Pipeline([\n",
    "    (\"scaler\", StandardScaler()),\n",
    "    (\"svm_poly\", SVC(kernel=\"poly\", degree=3, coef0=100, C=5))\n",
    "])\n",
    "poly_kernel_svm.fit(X, y)"
   ]
  },
  {
   "cell_type": "code",
   "execution_count": 14,
   "metadata": {},
   "outputs": [],
   "source": [
    "def plot_predictions(clf, axes):\n",
    "    x0s = np.linspace(axes[0], axes[1], 100)\n",
    "    x1s = np.linspace(axes[2], axes[3], 100)\n",
    "    x0, x1 = np.meshgrid(x0s, x1s)\n",
    "    X = np.c_[x0.ravel(), x1.ravel()]\n",
    "    y_pred = clf.predict(X).reshape(x0.shape)\n",
    "    y_decision = clf.decision_function(X).reshape(x0.shape)\n",
    "    plt.contourf(x0, x1, y_pred, cmap=plt.cm.brg, alpha=0.2)\n",
    "    plt.contourf(x0, x1, y_decision, cmap=plt.cm.brg, alpha=0.1)"
   ]
  },
  {
   "cell_type": "code",
   "execution_count": 15,
   "metadata": {},
   "outputs": [
    {
     "data": {
      "text/plain": [
       "<Figure size 792x288 with 0 Axes>"
      ]
     },
     "execution_count": 15,
     "metadata": {},
     "output_type": "execute_result"
    },
    {
     "data": {
      "text/plain": [
       "<Figure size 792x288 with 0 Axes>"
      ]
     },
     "execution_count": 0,
     "metadata": {},
     "output_type": "execute_result"
    }
   ],
   "source": [
    "plt.figure(figsize=(11, 4))"
   ]
  },
  {
   "cell_type": "code",
   "execution_count": 16,
   "metadata": {},
   "outputs": [
    {
     "data": {
      "text/plain": [
       "[4, 6, 0.8, 2.8]"
      ]
     },
     "execution_count": 16,
     "metadata": {},
     "output_type": "execute_result"
    },
    {
     "data": {
      "image/png": "[encoded data removed]",
      "text/plain": [
       "<Figure size 432x288 with 1 Axes>"
      ]
     },
     "metadata": {},
     "output_type": "display_data"
    }
   ],
   "source": [
    "plt.plot(X[:, 0][y==1], X[:, 1][y==1], \"g^\", label=\"Iris-Virginica\")\n",
    "plt.plot(X[:, 0][y==0], X[:, 1][y==0], \"bs\", label=\"Iris-Versicolor\")\n",
    "plot_predictions(poly_kernel_svm, [0, 7.5, 0, 3])\n",
    "plot_svc_decision_boundary(model_svm2, 4, 6)\n",
    "plt.title(r\"$d=3, r=1, C=5$\", fontsize=18)\n",
    "plt.xlabel(\"Petal length\", fontsize=14)\n",
    "plt.ylabel(\"Petal width\", fontsize=14, rotation=0)\n",
    "plt.legend(loc=\"upper left\", fontsize=14)\n",
    "plt.axis([4, 6, 0.8, 2.8])"
   ]
  },
  {
   "cell_type": "heading",
   "metadata": {},
   "level": 1,
   "source": [
    "multi-class classification (e.g. with mnist dataset)"
   ]
  },
  {
   "cell_type": "code",
   "execution_count": 10,
   "metadata": {},
   "outputs": [
    {
     "name": "stdout",
     "output_type": "stream",
     "text": [
      "[5 0 4 1 9 2 1 3 1 4]\n60000\n10000\n"
     ]
    }
   ],
   "source": [
    "import tensorflow as tf\n",
    "\n",
    "mnist = tf.keras.datasets.mnist\n",
    "(x_train, y_train),(x_test, y_test) = mnist.load_data()\n",
    "# normalization\n",
    "x_train, x_test = x_train / 255.0, x_test / 255.0\n",
    "\n",
    "# representation of labeled data-set\n",
    "#print(x_train[1])\n",
    "print(y_train[:10])\n",
    "print(len(x_train))\n",
    "print(len(x_test))"
   ]
  },
  {
   "cell_type": "code",
   "execution_count": 11,
   "metadata": {},
   "outputs": [],
   "source": [
    "x_train = x_train[:60000]\n",
    "y_train = y_train[:60000]\n",
    "x_test = x_test[:10000]\n",
    "y_test = y_test[:10000]"
   ]
  },
  {
   "cell_type": "heading",
   "metadata": {},
   "level": 2,
   "source": [
    "shuffle the dataset before training"
   ]
  },
  {
   "cell_type": "code",
   "execution_count": 12,
   "metadata": {},
   "outputs": [],
   "source": [
    "# fix the result for every shuffle\n",
    "np.random.seed(42)\n",
    "# randomly permutate the sequence of the data-set\n",
    "rnd_idx = np.random.permutation(60000)\n",
    "x_train = x_train[rnd_idx]\n",
    "y_train = y_train[rnd_idx]"
   ]
  },
  {
   "cell_type": "code",
   "execution_count": 13,
   "metadata": {},
   "outputs": [
    {
     "name": "stdout",
     "output_type": "stream",
     "text": [
      "array_shape: (28, 28)\ntraining_data_dimension: 3\ntraining_data_length: 60000\n\narray_shape: (28, 28)\ntesting_data_dimension: 3\ntesting_data_length: 10000\n"
     ]
    }
   ],
   "source": [
    "print(\"array_shape: {0}\\n\"\n",
    "      \"training_data_dimension: {1}\\n\"\n",
    "      \"training_data_length: {2}\\n\".format(x_train[1].shape, x_train.ndim, len(x_train)))\n",
    "\n",
    "print(\"array_shape: {0}\\n\"\n",
    "      \"testing_data_dimension: {1}\\n\"\n",
    "      \"testing_data_length: {2}\".format(x_test[1].shape, x_test.ndim, len(x_test)))"
   ]
  },
  {
   "cell_type": "heading",
   "metadata": {},
   "level": 2,
   "source": [
    "Dimensionality reduction"
   ]
  },
  {
   "cell_type": "code",
   "execution_count": 14,
   "metadata": {},
   "outputs": [],
   "source": [
    "x_train_reduce = np.reshape(x_train, (60000, 28*28))\n",
    "x_test_reduce = np.reshape(x_test, (10000, 28*28))"
   ]
  },
  {
   "cell_type": "code",
   "execution_count": 15,
   "metadata": {},
   "outputs": [
    {
     "name": "stdout",
     "output_type": "stream",
     "text": [
      "array_shape: (784,)\ntraining_data_reduce_dimension: 2\ntraining_data_reduce_length: 60000\n\narray_shape: (784,)\ntesting_data_reduce_dimension: 2\ntesting_data_reduce_length: 10000\n"
     ]
    }
   ],
   "source": [
    "print(\"array_shape: {0}\\n\"\n",
    "      \"training_data_reduce_dimension: {1}\\n\"\n",
    "      \"training_data_reduce_length: {2}\\n\".format(x_train_reduce[1].shape, x_train_reduce.ndim, len(x_train_reduce)))\n",
    "\n",
    "print(\"array_shape: {0}\\n\"\n",
    "      \"testing_data_reduce_dimension: {1}\\n\"\n",
    "      \"testing_data_reduce_length: {2}\".format(x_test_reduce[1].shape, x_test_reduce.ndim, len(x_test_reduce)))"
   ]
  },
  {
   "cell_type": "heading",
   "metadata": {},
   "level": 2,
   "source": [
    "standardizing dataset since SVMs is scaler-sensitive\n"
   ]
  },
  {
   "cell_type": "code",
   "execution_count": 16,
   "metadata": {},
   "outputs": [],
   "source": [
    "scaler = StandardScaler()\n",
    "x_train_scaled = scaler.fit_transform(x_train_reduce)\n",
    "x_test_scaled = scaler.fit_transform(x_test_reduce)"
   ]
  },
  {
   "cell_type": "code",
   "execution_count": null,
   "metadata": {
    "collapsed": true
   },
   "outputs": [
    {
     "name": "stdout",
     "output_type": "stream",
     "text": [
      "Fitting 3 folds for each of 10 candidates, totalling 30 fits\n[CV] C=7.159272548355914, gamma=0.002330255053417284 .................\n"
     ]
    },
    {
     "name": "stdout",
     "output_type": "stream",
     "text": [
      "[CV]  C=7.159272548355914, gamma=0.002330255053417284, score=0.8482142857142857, total=   1.5s\n[CV] C=7.159272548355914, gamma=0.002330255053417284 .................\n"
     ]
    },
    {
     "name": "stderr",
     "output_type": "stream",
     "text": [
      "[Parallel(n_jobs=1)]: Done   1 out of   1 | elapsed:    2.0s remaining:    0.0s\n"
     ]
    },
    {
     "name": "stdout",
     "output_type": "stream",
     "text": [
      "[CV]  C=7.159272548355914, gamma=0.002330255053417284, score=0.844311377245509, total=   1.0s\n[CV] C=7.159272548355914, gamma=0.002330255053417284 .................\n"
     ]
    },
    {
     "name": "stderr",
     "output_type": "stream",
     "text": [
      "[Parallel(n_jobs=1)]: Done   2 out of   2 | elapsed:    3.6s remaining:    0.0s\n"
     ]
    },
    {
     "name": "stdout",
     "output_type": "stream",
     "text": [
      "[CV]  C=7.159272548355914, gamma=0.002330255053417284, score=0.8575757575757575, total=   1.1s\n[CV] C=10.443162424204415, gamma=0.007251548526526461 ................\n"
     ]
    },
    {
     "name": "stdout",
     "output_type": "stream",
     "text": [
      "[CV]  C=10.443162424204415, gamma=0.007251548526526461, score=0.7142857142857143, total=   1.2s\n[CV] C=10.443162424204415, gamma=0.007251548526526461 ................\n"
     ]
    },
    {
     "name": "stdout",
     "output_type": "stream",
     "text": [
      "[CV]  C=10.443162424204415, gamma=0.007251548526526461, score=0.655688622754491, total=   1.1s\n[CV] C=10.443162424204415, gamma=0.007251548526526461 ................\n"
     ]
    },
    {
     "name": "stdout",
     "output_type": "stream",
     "text": [
      "[CV]  C=10.443162424204415, gamma=0.007251548526526461, score=0.706060606060606, total=   1.1s\n[CV] C=1.4788392065515124, gamma=0.02674711596485418 .................\n"
     ]
    },
    {
     "name": "stdout",
     "output_type": "stream",
     "text": [
      "[CV]  C=1.4788392065515124, gamma=0.02674711596485418, score=0.24404761904761904, total=   1.2s\n[CV] C=1.4788392065515124, gamma=0.02674711596485418 .................\n"
     ]
    },
    {
     "name": "stdout",
     "output_type": "stream",
     "text": [
      "[CV]  C=1.4788392065515124, gamma=0.02674711596485418, score=0.25449101796407186, total=   1.2s\n[CV] C=1.4788392065515124, gamma=0.02674711596485418 .................\n"
     ]
    },
    {
     "name": "stdout",
     "output_type": "stream",
     "text": [
      "[CV]  C=1.4788392065515124, gamma=0.02674711596485418, score=0.24545454545454545, total=   1.2s\n[CV] C=5.8460943837360055, gamma=0.05787363457524576 .................\n"
     ]
    },
    {
     "name": "stdout",
     "output_type": "stream",
     "text": [
      "[CV]  C=5.8460943837360055, gamma=0.05787363457524576, score=0.16964285714285715, total=   1.2s\n[CV] C=5.8460943837360055, gamma=0.05787363457524576 .................\n"
     ]
    },
    {
     "name": "stdout",
     "output_type": "stream",
     "text": [
      "[CV]  C=5.8460943837360055, gamma=0.05787363457524576, score=0.18562874251497005, total=   1.2s\n[CV] C=5.8460943837360055, gamma=0.05787363457524576 .................\n"
     ]
    },
    {
     "name": "stdout",
     "output_type": "stream",
     "text": [
      "[CV]  C=5.8460943837360055, gamma=0.05787363457524576, score=0.1606060606060606, total=   1.2s\n[CV] C=7.518251066916032, gamma=0.024268968751898466 .................\n"
     ]
    },
    {
     "name": "stdout",
     "output_type": "stream",
     "text": [
      "[CV]  C=7.518251066916032, gamma=0.024268968751898466, score=0.2648809523809524, total=   1.1s\n[CV] C=7.518251066916032, gamma=0.024268968751898466 .................\n"
     ]
    },
    {
     "name": "stdout",
     "output_type": "stream",
     "text": [
      "[CV]  C=7.518251066916032, gamma=0.024268968751898466, score=0.26646706586826346, total=   1.2s\n[CV] C=7.518251066916032, gamma=0.024268968751898466 .................\n"
     ]
    },
    {
     "name": "stdout",
     "output_type": "stream",
     "text": [
      "[CV]  C=7.518251066916032, gamma=0.024268968751898466, score=0.27575757575757576, total=   1.2s\n[CV] C=8.672598575312348, gamma=0.006929609303267635 .................\n"
     ]
    },
    {
     "name": "stdout",
     "output_type": "stream",
     "text": [
      "[CV]  C=8.672598575312348, gamma=0.006929609303267635, score=0.7232142857142857, total=   1.1s\n[CV] C=8.672598575312348, gamma=0.006929609303267635 .................\n"
     ]
    },
    {
     "name": "stdout",
     "output_type": "stream",
     "text": [
      "[CV]  C=8.672598575312348, gamma=0.006929609303267635, score=0.6646706586826348, total=   1.1s\n[CV] C=8.672598575312348, gamma=0.006929609303267635 .................\n"
     ]
    },
    {
     "name": "stdout",
     "output_type": "stream",
     "text": [
      "[CV]  C=8.672598575312348, gamma=0.006929609303267635, score=0.7090909090909091, total=   1.1s\n[CV] C=8.925471905182384, gamma=0.001262542307589235 .................\n"
     ]
    },
    {
     "name": "stdout",
     "output_type": "stream",
     "text": [
      "[CV]  C=8.925471905182384, gamma=0.001262542307589235, score=0.8571428571428571, total=   0.8s\n[CV] C=8.925471905182384, gamma=0.001262542307589235 .................\n"
     ]
    },
    {
     "name": "stdout",
     "output_type": "stream",
     "text": [
      "[CV]  C=8.925471905182384, gamma=0.001262542307589235, score=0.8652694610778443, total=   0.8s\n[CV] C=8.925471905182384, gamma=0.001262542307589235 .................\n"
     ]
    },
    {
     "name": "stdout",
     "output_type": "stream",
     "text": [
      "[CV]  C=8.925471905182384, gamma=0.001262542307589235, score=0.8727272727272727, total=   0.8s\n[CV] C=8.655274047166163, gamma=0.0187333598108448 ...................\n"
     ]
    },
    {
     "name": "stdout",
     "output_type": "stream",
     "text": [
      "[CV]  C=8.655274047166163, gamma=0.0187333598108448, score=0.375, total=   1.2s\n[CV] C=8.655274047166163, gamma=0.0187333598108448 ...................\n"
     ]
    },
    {
     "name": "stdout",
     "output_type": "stream",
     "text": [
      "[CV]  C=8.655274047166163, gamma=0.0187333598108448, score=0.3263473053892216, total=   1.2s\n[CV] C=8.655274047166163, gamma=0.0187333598108448 ...................\n"
     ]
    },
    {
     "name": "stdout",
     "output_type": "stream",
     "text": [
      "[CV]  C=8.655274047166163, gamma=0.0187333598108448, score=0.39090909090909093, total=   1.2s\n[CV] C=6.6666504120151195, gamma=0.004328139384576848 ................\n"
     ]
    },
    {
     "name": "stdout",
     "output_type": "stream",
     "text": [
      "[CV]  C=6.6666504120151195, gamma=0.004328139384576848, score=0.7976190476190477, total=   1.1s\n[CV] C=6.6666504120151195, gamma=0.004328139384576848 ................\n"
     ]
    },
    {
     "name": "stdout",
     "output_type": "stream",
     "text": [
      "[CV]  C=6.6666504120151195, gamma=0.004328139384576848, score=0.7634730538922155, total=   1.1s\n[CV] C=6.6666504120151195, gamma=0.004328139384576848 ................\n"
     ]
    },
    {
     "name": "stdout",
     "output_type": "stream",
     "text": [
      "[CV]  C=6.6666504120151195, gamma=0.004328139384576848, score=0.796969696969697, total=   1.1s\n[CV] C=2.1411260843123205, gamma=0.01969707028717445 .................\n"
     ]
    },
    {
     "name": "stdout",
     "output_type": "stream",
     "text": [
      "[CV]  C=2.1411260843123205, gamma=0.01969707028717445, score=0.3541666666666667, total=   1.2s\n[CV] C=2.1411260843123205, gamma=0.01969707028717445 .................\n"
     ]
    },
    {
     "name": "stdout",
     "output_type": "stream",
     "text": [
      "[CV]  C=2.1411260843123205, gamma=0.01969707028717445, score=0.3083832335329341, total=   1.2s\n[CV] C=2.1411260843123205, gamma=0.01969707028717445 .................\n"
     ]
    },
    {
     "name": "stdout",
     "output_type": "stream",
     "text": [
      "[CV]  C=2.1411260843123205, gamma=0.01969707028717445, score=0.35454545454545455, total=   1.2s\n"
     ]
    },
    {
     "name": "stderr",
     "output_type": "stream",
     "text": [
      "[Parallel(n_jobs=1)]: Done  30 out of  30 | elapsed:   52.1s finished\n"
     ]
    },
    {
     "data": {
      "text/plain": [
       "RandomizedSearchCV(cv=None, error_score='raise',\n          estimator=SVC(C=1.0, cache_size=200, class_weight=None, coef0=0.0,\n  decision_function_shape='ovr', degree=3, gamma='auto', kernel='rbf',\n  max_iter=-1, probability=False, random_state=None, shrinking=True,\n  tol=0.001, verbose=False),\n          fit_params=None, iid=True, n_iter=10, n_jobs=1,\n          param_distributions={'gamma': <scipy.stats._distn_infrastructure.rv_frozen object at 0x0000014F85F28D68>, 'C': <scipy.stats._distn_infrastructure.rv_frozen object at 0x0000014F85F284E0>},\n          pre_dispatch='2*n_jobs', random_state=None, refit=True,\n          return_train_score='warn', scoring='accuracy', verbose=3)"
      ]
     },
     "execution_count": 19,
     "metadata": {},
     "output_type": "execute_result"
    }
   ],
   "source": [
    "model_svm11 = LinearSVC(C=1, loss=\"hinge\", random_state=42)\n",
    "model_svm22 = LinearSVC(C=1, loss=\"hinge\", random_state=42)"
   ]
  },
  {
   "cell_type": "markdown",
   "metadata": {
    "collapsed": true
   },
   "source": [
    "following displayed SVC model's awaiting to be rectified with CV"
   ]
  },
  {
   "cell_type": "code",
   "execution_count": null,
   "metadata": {
    "collapsed": true
   },
   "outputs": [
    {
     "name": "stdout",
     "output_type": "stream",
     "text": [
      "Fitting 3 folds for each of 10 candidates, totalling 30 fits\n[CV] C=7.159272548355914, gamma=0.002330255053417284 .................\n"
     ]
    },
    {
     "name": "stdout",
     "output_type": "stream",
     "text": [
      "[CV]  C=7.159272548355914, gamma=0.002330255053417284, score=0.8482142857142857, total=   1.5s\n[CV] C=7.159272548355914, gamma=0.002330255053417284 .................\n"
     ]
    },
    {
     "name": "stderr",
     "output_type": "stream",
     "text": [
      "[Parallel(n_jobs=1)]: Done   1 out of   1 | elapsed:    2.0s remaining:    0.0s\n"
     ]
    },
    {
     "name": "stdout",
     "output_type": "stream",
     "text": [
      "[CV]  C=7.159272548355914, gamma=0.002330255053417284, score=0.844311377245509, total=   1.0s\n[CV] C=7.159272548355914, gamma=0.002330255053417284 .................\n"
     ]
    },
    {
     "name": "stderr",
     "output_type": "stream",
     "text": [
      "[Parallel(n_jobs=1)]: Done   2 out of   2 | elapsed:    3.6s remaining:    0.0s\n"
     ]
    },
    {
     "name": "stdout",
     "output_type": "stream",
     "text": [
      "[CV]  C=7.159272548355914, gamma=0.002330255053417284, score=0.8575757575757575, total=   1.1s\n[CV] C=10.443162424204415, gamma=0.007251548526526461 ................\n"
     ]
    },
    {
     "name": "stdout",
     "output_type": "stream",
     "text": [
      "[CV]  C=10.443162424204415, gamma=0.007251548526526461, score=0.7142857142857143, total=   1.2s\n[CV] C=10.443162424204415, gamma=0.007251548526526461 ................\n"
     ]
    },
    {
     "name": "stdout",
     "output_type": "stream",
     "text": [
      "[CV]  C=10.443162424204415, gamma=0.007251548526526461, score=0.655688622754491, total=   1.1s\n[CV] C=10.443162424204415, gamma=0.007251548526526461 ................\n"
     ]
    },
    {
     "name": "stdout",
     "output_type": "stream",
     "text": [
      "[CV]  C=10.443162424204415, gamma=0.007251548526526461, score=0.706060606060606, total=   1.1s\n[CV] C=1.4788392065515124, gamma=0.02674711596485418 .................\n"
     ]
    },
    {
     "name": "stdout",
     "output_type": "stream",
     "text": [
      "[CV]  C=1.4788392065515124, gamma=0.02674711596485418, score=0.24404761904761904, total=   1.2s\n[CV] C=1.4788392065515124, gamma=0.02674711596485418 .................\n"
     ]
    },
    {
     "name": "stdout",
     "output_type": "stream",
     "text": [
      "[CV]  C=1.4788392065515124, gamma=0.02674711596485418, score=0.25449101796407186, total=   1.2s\n[CV] C=1.4788392065515124, gamma=0.02674711596485418 .................\n"
     ]
    },
    {
     "name": "stdout",
     "output_type": "stream",
     "text": [
      "[CV]  C=1.4788392065515124, gamma=0.02674711596485418, score=0.24545454545454545, total=   1.2s\n[CV] C=5.8460943837360055, gamma=0.05787363457524576 .................\n"
     ]
    },
    {
     "name": "stdout",
     "output_type": "stream",
     "text": [
      "[CV]  C=5.8460943837360055, gamma=0.05787363457524576, score=0.16964285714285715, total=   1.2s\n[CV] C=5.8460943837360055, gamma=0.05787363457524576 .................\n"
     ]
    },
    {
     "name": "stdout",
     "output_type": "stream",
     "text": [
      "[CV]  C=5.8460943837360055, gamma=0.05787363457524576, score=0.18562874251497005, total=   1.2s\n[CV] C=5.8460943837360055, gamma=0.05787363457524576 .................\n"
     ]
    },
    {
     "name": "stdout",
     "output_type": "stream",
     "text": [
      "[CV]  C=5.8460943837360055, gamma=0.05787363457524576, score=0.1606060606060606, total=   1.2s\n[CV] C=7.518251066916032, gamma=0.024268968751898466 .................\n"
     ]
    },
    {
     "name": "stdout",
     "output_type": "stream",
     "text": [
      "[CV]  C=7.518251066916032, gamma=0.024268968751898466, score=0.2648809523809524, total=   1.1s\n[CV] C=7.518251066916032, gamma=0.024268968751898466 .................\n"
     ]
    },
    {
     "name": "stdout",
     "output_type": "stream",
     "text": [
      "[CV]  C=7.518251066916032, gamma=0.024268968751898466, score=0.26646706586826346, total=   1.2s\n[CV] C=7.518251066916032, gamma=0.024268968751898466 .................\n"
     ]
    },
    {
     "name": "stdout",
     "output_type": "stream",
     "text": [
      "[CV]  C=7.518251066916032, gamma=0.024268968751898466, score=0.27575757575757576, total=   1.2s\n[CV] C=8.672598575312348, gamma=0.006929609303267635 .................\n"
     ]
    },
    {
     "name": "stdout",
     "output_type": "stream",
     "text": [
      "[CV]  C=8.672598575312348, gamma=0.006929609303267635, score=0.7232142857142857, total=   1.1s\n[CV] C=8.672598575312348, gamma=0.006929609303267635 .................\n"
     ]
    },
    {
     "name": "stdout",
     "output_type": "stream",
     "text": [
      "[CV]  C=8.672598575312348, gamma=0.006929609303267635, score=0.6646706586826348, total=   1.1s\n[CV] C=8.672598575312348, gamma=0.006929609303267635 .................\n"
     ]
    },
    {
     "name": "stdout",
     "output_type": "stream",
     "text": [
      "[CV]  C=8.672598575312348, gamma=0.006929609303267635, score=0.7090909090909091, total=   1.1s\n[CV] C=8.925471905182384, gamma=0.001262542307589235 .................\n"
     ]
    },
    {
     "name": "stdout",
     "output_type": "stream",
     "text": [
      "[CV]  C=8.925471905182384, gamma=0.001262542307589235, score=0.8571428571428571, total=   0.8s\n[CV] C=8.925471905182384, gamma=0.001262542307589235 .................\n"
     ]
    },
    {
     "name": "stdout",
     "output_type": "stream",
     "text": [
      "[CV]  C=8.925471905182384, gamma=0.001262542307589235, score=0.8652694610778443, total=   0.8s\n[CV] C=8.925471905182384, gamma=0.001262542307589235 .................\n"
     ]
    },
    {
     "name": "stdout",
     "output_type": "stream",
     "text": [
      "[CV]  C=8.925471905182384, gamma=0.001262542307589235, score=0.8727272727272727, total=   0.8s\n[CV] C=8.655274047166163, gamma=0.0187333598108448 ...................\n"
     ]
    },
    {
     "name": "stdout",
     "output_type": "stream",
     "text": [
      "[CV]  C=8.655274047166163, gamma=0.0187333598108448, score=0.375, total=   1.2s\n[CV] C=8.655274047166163, gamma=0.0187333598108448 ...................\n"
     ]
    },
    {
     "name": "stdout",
     "output_type": "stream",
     "text": [
      "[CV]  C=8.655274047166163, gamma=0.0187333598108448, score=0.3263473053892216, total=   1.2s\n[CV] C=8.655274047166163, gamma=0.0187333598108448 ...................\n"
     ]
    },
    {
     "name": "stdout",
     "output_type": "stream",
     "text": [
      "[CV]  C=8.655274047166163, gamma=0.0187333598108448, score=0.39090909090909093, total=   1.2s\n[CV] C=6.6666504120151195, gamma=0.004328139384576848 ................\n"
     ]
    },
    {
     "name": "stdout",
     "output_type": "stream",
     "text": [
      "[CV]  C=6.6666504120151195, gamma=0.004328139384576848, score=0.7976190476190477, total=   1.1s\n[CV] C=6.6666504120151195, gamma=0.004328139384576848 ................\n"
     ]
    },
    {
     "name": "stdout",
     "output_type": "stream",
     "text": [
      "[CV]  C=6.6666504120151195, gamma=0.004328139384576848, score=0.7634730538922155, total=   1.1s\n[CV] C=6.6666504120151195, gamma=0.004328139384576848 ................\n"
     ]
    },
    {
     "name": "stdout",
     "output_type": "stream",
     "text": [
      "[CV]  C=6.6666504120151195, gamma=0.004328139384576848, score=0.796969696969697, total=   1.1s\n[CV] C=2.1411260843123205, gamma=0.01969707028717445 .................\n"
     ]
    },
    {
     "name": "stdout",
     "output_type": "stream",
     "text": [
      "[CV]  C=2.1411260843123205, gamma=0.01969707028717445, score=0.3541666666666667, total=   1.2s\n[CV] C=2.1411260843123205, gamma=0.01969707028717445 .................\n"
     ]
    },
    {
     "name": "stdout",
     "output_type": "stream",
     "text": [
      "[CV]  C=2.1411260843123205, gamma=0.01969707028717445, score=0.3083832335329341, total=   1.2s\n[CV] C=2.1411260843123205, gamma=0.01969707028717445 .................\n"
     ]
    },
    {
     "name": "stdout",
     "output_type": "stream",
     "text": [
      "[CV]  C=2.1411260843123205, gamma=0.01969707028717445, score=0.35454545454545455, total=   1.2s\n"
     ]
    },
    {
     "name": "stderr",
     "output_type": "stream",
     "text": [
      "[Parallel(n_jobs=1)]: Done  30 out of  30 | elapsed:   52.1s finished\n"
     ]
    },
    {
     "data": {
      "text/plain": [
       "RandomizedSearchCV(cv=None, error_score='raise',\n          estimator=SVC(C=1.0, cache_size=200, class_weight=None, coef0=0.0,\n  decision_function_shape='ovr', degree=3, gamma='auto', kernel='rbf',\n  max_iter=-1, probability=False, random_state=None, shrinking=True,\n  tol=0.001, verbose=False),\n          fit_params=None, iid=True, n_iter=10, n_jobs=1,\n          param_distributions={'gamma': <scipy.stats._distn_infrastructure.rv_frozen object at 0x0000014F85F28D68>, 'C': <scipy.stats._distn_infrastructure.rv_frozen object at 0x0000014F85F284E0>},\n          pre_dispatch='2*n_jobs', random_state=None, refit=True,\n          return_train_score='warn', scoring='accuracy', verbose=3)"
      ]
     },
     "execution_count": 19,
     "metadata": {},
     "output_type": "execute_result"
    }
   ],
   "source": [
    "svm_clf = SVC(kernel=\"rbf\", decision_function_shape=\"ovr\")"
   ]
  },
  {
   "cell_type": "heading",
   "metadata": {
    "collapsed": true
   },
   "level": 1,
   "source": [
    "CV on choice of gamma & C-parameter"
   ]
  },
  {
   "cell_type": "code",
   "execution_count": 21,
   "metadata": {
    "collapsed": true
   },
   "outputs": [],
   "source": [
    "from sklearn.model_selection import RandomizedSearchCV\n",
    "from scipy.stats import reciprocal, uniform\n",
    "from sklearn.model_selection import cross_val_score"
   ]
  },
  {
   "cell_type": "code",
   "execution_count": 19,
   "metadata": {
    "collapsed": true
   },
   "outputs": [
    {
     "name": "stdout",
     "output_type": "stream",
     "text": [
      "Fitting 3 folds for each of 10 candidates, totalling 30 fits\n[CV] C=7.159272548355914, gamma=0.002330255053417284 .................\n"
     ]
    },
    {
     "name": "stdout",
     "output_type": "stream",
     "text": [
      "[CV]  C=7.159272548355914, gamma=0.002330255053417284, score=0.8482142857142857, total=   1.5s\n[CV] C=7.159272548355914, gamma=0.002330255053417284 .................\n"
     ]
    },
    {
     "name": "stderr",
     "output_type": "stream",
     "text": [
      "[Parallel(n_jobs=1)]: Done   1 out of   1 | elapsed:    2.0s remaining:    0.0s\n"
     ]
    },
    {
     "name": "stdout",
     "output_type": "stream",
     "text": [
      "[CV]  C=7.159272548355914, gamma=0.002330255053417284, score=0.844311377245509, total=   1.0s\n[CV] C=7.159272548355914, gamma=0.002330255053417284 .................\n"
     ]
    },
    {
     "name": "stderr",
     "output_type": "stream",
     "text": [
      "[Parallel(n_jobs=1)]: Done   2 out of   2 | elapsed:    3.6s remaining:    0.0s\n"
     ]
    },
    {
     "name": "stdout",
     "output_type": "stream",
     "text": [
      "[CV]  C=7.159272548355914, gamma=0.002330255053417284, score=0.8575757575757575, total=   1.1s\n[CV] C=10.443162424204415, gamma=0.007251548526526461 ................\n"
     ]
    },
    {
     "name": "stdout",
     "output_type": "stream",
     "text": [
      "[CV]  C=10.443162424204415, gamma=0.007251548526526461, score=0.7142857142857143, total=   1.2s\n[CV] C=10.443162424204415, gamma=0.007251548526526461 ................\n"
     ]
    },
    {
     "name": "stdout",
     "output_type": "stream",
     "text": [
      "[CV]  C=10.443162424204415, gamma=0.007251548526526461, score=0.655688622754491, total=   1.1s\n[CV] C=10.443162424204415, gamma=0.007251548526526461 ................\n"
     ]
    },
    {
     "name": "stdout",
     "output_type": "stream",
     "text": [
      "[CV]  C=10.443162424204415, gamma=0.007251548526526461, score=0.706060606060606, total=   1.1s\n[CV] C=1.4788392065515124, gamma=0.02674711596485418 .................\n"
     ]
    },
    {
     "name": "stdout",
     "output_type": "stream",
     "text": [
      "[CV]  C=1.4788392065515124, gamma=0.02674711596485418, score=0.24404761904761904, total=   1.2s\n[CV] C=1.4788392065515124, gamma=0.02674711596485418 .................\n"
     ]
    },
    {
     "name": "stdout",
     "output_type": "stream",
     "text": [
      "[CV]  C=1.4788392065515124, gamma=0.02674711596485418, score=0.25449101796407186, total=   1.2s\n[CV] C=1.4788392065515124, gamma=0.02674711596485418 .................\n"
     ]
    },
    {
     "name": "stdout",
     "output_type": "stream",
     "text": [
      "[CV]  C=1.4788392065515124, gamma=0.02674711596485418, score=0.24545454545454545, total=   1.2s\n[CV] C=5.8460943837360055, gamma=0.05787363457524576 .................\n"
     ]
    },
    {
     "name": "stdout",
     "output_type": "stream",
     "text": [
      "[CV]  C=5.8460943837360055, gamma=0.05787363457524576, score=0.16964285714285715, total=   1.2s\n[CV] C=5.8460943837360055, gamma=0.05787363457524576 .................\n"
     ]
    },
    {
     "name": "stdout",
     "output_type": "stream",
     "text": [
      "[CV]  C=5.8460943837360055, gamma=0.05787363457524576, score=0.18562874251497005, total=   1.2s\n[CV] C=5.8460943837360055, gamma=0.05787363457524576 .................\n"
     ]
    },
    {
     "name": "stdout",
     "output_type": "stream",
     "text": [
      "[CV]  C=5.8460943837360055, gamma=0.05787363457524576, score=0.1606060606060606, total=   1.2s\n[CV] C=7.518251066916032, gamma=0.024268968751898466 .................\n"
     ]
    },
    {
     "name": "stdout",
     "output_type": "stream",
     "text": [
      "[CV]  C=7.518251066916032, gamma=0.024268968751898466, score=0.2648809523809524, total=   1.1s\n[CV] C=7.518251066916032, gamma=0.024268968751898466 .................\n"
     ]
    },
    {
     "name": "stdout",
     "output_type": "stream",
     "text": [
      "[CV]  C=7.518251066916032, gamma=0.024268968751898466, score=0.26646706586826346, total=   1.2s\n[CV] C=7.518251066916032, gamma=0.024268968751898466 .................\n"
     ]
    },
    {
     "name": "stdout",
     "output_type": "stream",
     "text": [
      "[CV]  C=7.518251066916032, gamma=0.024268968751898466, score=0.27575757575757576, total=   1.2s\n[CV] C=8.672598575312348, gamma=0.006929609303267635 .................\n"
     ]
    },
    {
     "name": "stdout",
     "output_type": "stream",
     "text": [
      "[CV]  C=8.672598575312348, gamma=0.006929609303267635, score=0.7232142857142857, total=   1.1s\n[CV] C=8.672598575312348, gamma=0.006929609303267635 .................\n"
     ]
    },
    {
     "name": "stdout",
     "output_type": "stream",
     "text": [
      "[CV]  C=8.672598575312348, gamma=0.006929609303267635, score=0.6646706586826348, total=   1.1s\n[CV] C=8.672598575312348, gamma=0.006929609303267635 .................\n"
     ]
    },
    {
     "name": "stdout",
     "output_type": "stream",
     "text": [
      "[CV]  C=8.672598575312348, gamma=0.006929609303267635, score=0.7090909090909091, total=   1.1s\n[CV] C=8.925471905182384, gamma=0.001262542307589235 .................\n"
     ]
    },
    {
     "name": "stdout",
     "output_type": "stream",
     "text": [
      "[CV]  C=8.925471905182384, gamma=0.001262542307589235, score=0.8571428571428571, total=   0.8s\n[CV] C=8.925471905182384, gamma=0.001262542307589235 .................\n"
     ]
    },
    {
     "name": "stdout",
     "output_type": "stream",
     "text": [
      "[CV]  C=8.925471905182384, gamma=0.001262542307589235, score=0.8652694610778443, total=   0.8s\n[CV] C=8.925471905182384, gamma=0.001262542307589235 .................\n"
     ]
    },
    {
     "name": "stdout",
     "output_type": "stream",
     "text": [
      "[CV]  C=8.925471905182384, gamma=0.001262542307589235, score=0.8727272727272727, total=   0.8s\n[CV] C=8.655274047166163, gamma=0.0187333598108448 ...................\n"
     ]
    },
    {
     "name": "stdout",
     "output_type": "stream",
     "text": [
      "[CV]  C=8.655274047166163, gamma=0.0187333598108448, score=0.375, total=   1.2s\n[CV] C=8.655274047166163, gamma=0.0187333598108448 ...................\n"
     ]
    },
    {
     "name": "stdout",
     "output_type": "stream",
     "text": [
      "[CV]  C=8.655274047166163, gamma=0.0187333598108448, score=0.3263473053892216, total=   1.2s\n[CV] C=8.655274047166163, gamma=0.0187333598108448 ...................\n"
     ]
    },
    {
     "name": "stdout",
     "output_type": "stream",
     "text": [
      "[CV]  C=8.655274047166163, gamma=0.0187333598108448, score=0.39090909090909093, total=   1.2s\n[CV] C=6.6666504120151195, gamma=0.004328139384576848 ................\n"
     ]
    },
    {
     "name": "stdout",
     "output_type": "stream",
     "text": [
      "[CV]  C=6.6666504120151195, gamma=0.004328139384576848, score=0.7976190476190477, total=   1.1s\n[CV] C=6.6666504120151195, gamma=0.004328139384576848 ................\n"
     ]
    },
    {
     "name": "stdout",
     "output_type": "stream",
     "text": [
      "[CV]  C=6.6666504120151195, gamma=0.004328139384576848, score=0.7634730538922155, total=   1.1s\n[CV] C=6.6666504120151195, gamma=0.004328139384576848 ................\n"
     ]
    },
    {
     "name": "stdout",
     "output_type": "stream",
     "text": [
      "[CV]  C=6.6666504120151195, gamma=0.004328139384576848, score=0.796969696969697, total=   1.1s\n[CV] C=2.1411260843123205, gamma=0.01969707028717445 .................\n"
     ]
    },
    {
     "name": "stdout",
     "output_type": "stream",
     "text": [
      "[CV]  C=2.1411260843123205, gamma=0.01969707028717445, score=0.3541666666666667, total=   1.2s\n[CV] C=2.1411260843123205, gamma=0.01969707028717445 .................\n"
     ]
    },
    {
     "name": "stdout",
     "output_type": "stream",
     "text": [
      "[CV]  C=2.1411260843123205, gamma=0.01969707028717445, score=0.3083832335329341, total=   1.2s\n[CV] C=2.1411260843123205, gamma=0.01969707028717445 .................\n"
     ]
    },
    {
     "name": "stdout",
     "output_type": "stream",
     "text": [
      "[CV]  C=2.1411260843123205, gamma=0.01969707028717445, score=0.35454545454545455, total=   1.2s\n"
     ]
    },
    {
     "name": "stderr",
     "output_type": "stream",
     "text": [
      "[Parallel(n_jobs=1)]: Done  30 out of  30 | elapsed:   52.1s finished\n"
     ]
    },
    {
     "data": {
      "text/plain": [
       "RandomizedSearchCV(cv=None, error_score='raise',\n          estimator=SVC(C=1.0, cache_size=200, class_weight=None, coef0=0.0,\n  decision_function_shape='ovr', degree=3, gamma='auto', kernel='rbf',\n  max_iter=-1, probability=False, random_state=None, shrinking=True,\n  tol=0.001, verbose=False),\n          fit_params=None, iid=True, n_iter=10, n_jobs=1,\n          param_distributions={'gamma': <scipy.stats._distn_infrastructure.rv_frozen object at 0x0000014F85F28D68>, 'C': <scipy.stats._distn_infrastructure.rv_frozen object at 0x0000014F85F284E0>},\n          pre_dispatch='2*n_jobs', random_state=None, refit=True,\n          return_train_score='warn', scoring='accuracy', verbose=3)"
      ]
     },
     "execution_count": 19,
     "metadata": {},
     "output_type": "execute_result"
    }
   ],
   "source": [
    "param_distributions = {\"gamma\": reciprocal(0.001, 0.1), \"C\": uniform(1, 10)}\n",
    "rnd_search_cv = RandomizedSearchCV(svm_clf, param_distributions, n_iter=10, verbose=3, scoring='accuracy')\n",
    "rnd_search_cv.fit(x_train_scaled[:1000], y_train[:1000])"
   ]
  },
  {
   "cell_type": "heading",
   "metadata": {
    "collapsed": true
   },
   "level": 1,
   "source": [
    "CV on choosing optimal & most compuationally efficient data-size"
   ]
  },
  {
   "cell_type": "code",
   "execution_count": 23,
   "metadata": {
    "collapsed": true
   },
   "outputs": [
    {
     "name": "stdout",
     "output_type": "stream",
     "text": [
      "     data-size       accuracy\n        1000         0.8689759410032941\n        1600         0.8906343932154186\n        2200         0.903722360679498\n        2800         0.9160517618666107\n        3400         0.9190889816381226\n        4000         0.9220187758894015\n"
     ]
    }
   ],
   "source": [
    "# search for optimal & computationally efficient data size\n",
    "# from 1000 to 4000 with step size equals to 600\n",
    "size_range = list(np.linspace(1000, 4000, num=6))\n",
    "\n",
    "# 列表解析 强制类型转换列表条目为int(automatically set up new list-container)\n",
    "size_range_int = [int(i) for i in size_range]\n",
    "CV_scores = []\n",
    "for size_variable in size_range_int:\n",
    "    # knn = KNeighborsClassifier(n_neighbors=k)\n",
    "    \n",
    "    x_variable = x_train_scaled[:size_variable]\n",
    "    y_variable = y_train[:size_variable]\n",
    "    \n",
    "    scores = cross_val_score(svm_clf, x_variable, y_variable, cv=10, scoring='accuracy')\n",
    "    CV_scores.append(scores.mean())\n",
    "\n",
    "print('{:^20} {}'.format('data-size', 'accuracy'))\n",
    "size_sign = 0;\n",
    "for score_item in CV_scores:\n",
    "    print('{:^20} {}'.format(str(size_range_int[size_sign]), score_item))\n",
    "    size_sign = size_sign+1\n"
   ]
  },
  {
   "cell_type": "code",
   "execution_count": 16,
   "metadata": {
    "collapsed": false
   },
   "outputs": [
    {
     "data": {
      "text/plain": [
       "LinearSVC(C=1, class_weight=None, dual=True, fit_intercept=True,\n     intercept_scaling=1, loss='hinge', max_iter=1000, multi_class='ovr',\n     penalty='l2', random_state=42, tol=0.0001, verbose=0)"
      ]
     },
     "execution_count": 16,
     "metadata": {},
     "output_type": "execute_result"
    }
   ],
   "source": [
    "model_svm11.fit(x_train_reduce[:20000], y_train[:20000])\n",
    "model_svm22.fit(x_train_scaled[:20000], y_train[:20000])\n",
    "svm_clf.fit(x_train_scaled[:50000], y_train[:50000])"
   ]
  },
  {
   "cell_type": "code",
   "execution_count": 17,
   "metadata": {},
   "outputs": [
    {
     "name": "stdout",
     "output_type": "stream",
     "text": [
      "linear_kernel_OA: 0.7804\nlinear_kernel_scaled_OA: 0.8973\n\n"
     ]
    }
   ],
   "source": [
    "from sklearn.metrics import accuracy_score\n",
    "y_pred_linear = model_svm11.predict(x_test_scaled)\n",
    "y_pred_linear_scaled = model_svm22.predict(x_test_scaled)\n",
    "y_pred_nonlinear = svm_clf.predict(x_test_scaled)\n",
    "print(\"linear_kernel_OA: {0}\\n\"\n",
    "       \"linear_kernel_scaled_OA: {1}\\n\"\n",
    "       \"nonlinear_kernel_OA: {2}\"\n",
    "       .format(accuracy_score(y_test, y_pred_linear), accuracy_score(y_test, y_pred_linear_scaled), accuracy_score(y_test, y_pred_nonlinear)))\n",
    "print(\"linear_kernel_OA: {0}\\n\"\n",
    "      \"linear_kernel_scaled_OA: {1}\\n\"\n",
    "      .format(accuracy_score(y_test, y_pred_linear), accuracy_score(y_test, y_pred_linear_scaled)))"
   ]
  },
  {
   "cell_type": "code",
   "execution_count": null,
   "metadata": {},
   "outputs": [],
   "source": []
  }
 ],
 "metadata": {
  "kernelspec": {
   "display_name": "Python 2",
   "language": "python",
   "name": "python2"
  },
  "language_info": {
   "codemirror_mode": {
    "name": "ipython",
    "version": 2
   },
   "file_extension": ".py",
   "mimetype": "text/x-python",
   "name": "python",
   "nbconvert_exporter": "python",
   "pygments_lexer": "ipython2",
   "version": "2.7.6"
  }
 },
 "nbformat": 4,
 "nbformat_minor": 0
}
